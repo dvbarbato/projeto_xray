{
 "cells": [
  {
   "cell_type": "markdown",
   "id": "3d31b4a3",
   "metadata": {},
   "source": [
    "**ADD BIBLIOTECAS**"
   ]
  },
  {
   "cell_type": "code",
   "execution_count": 7,
   "id": "2b171895",
   "metadata": {
    "ExecuteTime": {
     "end_time": "2023-03-06T14:04:47.600841Z",
     "start_time": "2023-03-06T14:04:46.280421Z"
    }
   },
   "outputs": [
    {
     "name": "stdout",
     "output_type": "stream",
     "text": [
      "Requirement already satisfied: numpy==1.22.4 in /Users/david/opt/anaconda3/envs/xray/lib/python3.8/site-packages (1.22.4)\n",
      "Note: you may need to restart the kernel to use updated packages.\n"
     ]
    }
   ],
   "source": [
    "pip install numpy==1.22.4"
   ]
  },
  {
   "cell_type": "code",
   "execution_count": 3,
   "id": "d60b3b55",
   "metadata": {
    "ExecuteTime": {
     "end_time": "2023-03-06T14:06:02.899913Z",
     "start_time": "2023-03-06T14:05:52.454929Z"
    }
   },
   "outputs": [
    {
     "name": "stdout",
     "output_type": "stream",
     "text": [
      "Collecting pandas==1.3.5\n",
      "  Downloading pandas-1.3.5-cp38-cp38-macosx_10_9_x86_64.whl (11.2 MB)\n",
      "\u001b[2K     \u001b[90m━━━━━━━━━━━━━━━━━━━━━━━━━━━━━━━━━━━━━━━━\u001b[0m \u001b[32m11.2/11.2 MB\u001b[0m \u001b[31m4.1 MB/s\u001b[0m eta \u001b[36m0:00:00\u001b[0m00:01\u001b[0m00:01\u001b[0m\n",
      "\u001b[?25hRequirement already satisfied: python-dateutil>=2.7.3 in /Users/david/opt/anaconda3/envs/xray/lib/python3.8/site-packages (from pandas==1.3.5) (2.8.2)\n",
      "Requirement already satisfied: numpy>=1.17.3 in /Users/david/opt/anaconda3/envs/xray/lib/python3.8/site-packages (from pandas==1.3.5) (1.22.4)\n",
      "Requirement already satisfied: pytz>=2017.3 in /Users/david/opt/anaconda3/envs/xray/lib/python3.8/site-packages (from pandas==1.3.5) (2022.7.1)\n",
      "Requirement already satisfied: six>=1.5 in /Users/david/opt/anaconda3/envs/xray/lib/python3.8/site-packages (from python-dateutil>=2.7.3->pandas==1.3.5) (1.15.0)\n",
      "Installing collected packages: pandas\n",
      "  Attempting uninstall: pandas\n",
      "    Found existing installation: pandas 1.5.3\n",
      "    Uninstalling pandas-1.5.3:\n",
      "      Successfully uninstalled pandas-1.5.3\n",
      "Successfully installed pandas-1.3.5\n",
      "Note: you may need to restart the kernel to use updated packages.\n"
     ]
    }
   ],
   "source": [
    "pip install pandas==1.3.5"
   ]
  },
  {
   "cell_type": "markdown",
   "id": "1a3e0c89",
   "metadata": {},
   "source": [
    "**IMPORTAR BIBLIOTECAS**"
   ]
  },
  {
   "cell_type": "code",
   "execution_count": 15,
   "id": "14e01119",
   "metadata": {
    "ExecuteTime": {
     "end_time": "2023-03-06T14:12:32.825620Z",
     "start_time": "2023-03-06T14:12:32.821479Z"
    }
   },
   "outputs": [],
   "source": [
    "import os\n",
    "import numpy as np\n",
    "import pandas as pd\n",
    "import seaborn as sns\n",
    "import matplotlib.pyplot as plt\n",
    "\n",
    "import cv2\n",
    "import tensorflow as tf\n"
   ]
  },
  {
   "cell_type": "code",
   "execution_count": 12,
   "id": "6496fe39",
   "metadata": {
    "ExecuteTime": {
     "end_time": "2023-03-06T14:11:29.121421Z",
     "start_time": "2023-03-06T14:11:12.519304Z"
    }
   },
   "outputs": [],
   "source": [
    "import tensorflow as tf"
   ]
  },
  {
   "cell_type": "code",
   "execution_count": 2,
   "id": "2a6bce52",
   "metadata": {
    "ExecuteTime": {
     "end_time": "2023-03-06T14:05:07.279369Z",
     "start_time": "2023-03-06T14:05:07.272278Z"
    },
    "cell_style": "split"
   },
   "outputs": [
    {
     "data": {
      "text/plain": [
       "'1.22.4'"
      ]
     },
     "execution_count": 2,
     "metadata": {},
     "output_type": "execute_result"
    }
   ],
   "source": [
    "np.__version__"
   ]
  },
  {
   "cell_type": "code",
   "execution_count": 5,
   "id": "28f8fe4a",
   "metadata": {
    "ExecuteTime": {
     "end_time": "2023-03-06T14:06:20.798949Z",
     "start_time": "2023-03-06T14:06:20.792226Z"
    },
    "cell_style": "split"
   },
   "outputs": [
    {
     "data": {
      "text/plain": [
       "'1.3.5'"
      ]
     },
     "execution_count": 5,
     "metadata": {},
     "output_type": "execute_result"
    }
   ],
   "source": [
    "pd.__version__"
   ]
  },
  {
   "cell_type": "code",
   "execution_count": 7,
   "id": "afb12f67",
   "metadata": {
    "ExecuteTime": {
     "end_time": "2023-03-06T14:07:27.818941Z",
     "start_time": "2023-03-06T14:07:27.813759Z"
    },
    "cell_style": "split"
   },
   "outputs": [
    {
     "data": {
      "text/plain": [
       "'0.12.2'"
      ]
     },
     "execution_count": 7,
     "metadata": {},
     "output_type": "execute_result"
    }
   ],
   "source": [
    "sns.__version__"
   ]
  },
  {
   "cell_type": "code",
   "execution_count": 11,
   "id": "766f707f",
   "metadata": {
    "ExecuteTime": {
     "end_time": "2023-03-06T14:10:03.572938Z",
     "start_time": "2023-03-06T14:10:03.568280Z"
    },
    "cell_style": "split"
   },
   "outputs": [
    {
     "data": {
      "text/plain": [
       "'4.7.0'"
      ]
     },
     "execution_count": 11,
     "metadata": {},
     "output_type": "execute_result"
    }
   ],
   "source": [
    "cv2.__version__"
   ]
  },
  {
   "cell_type": "code",
   "execution_count": 13,
   "id": "b524dd41",
   "metadata": {
    "ExecuteTime": {
     "end_time": "2023-03-06T14:11:59.043031Z",
     "start_time": "2023-03-06T14:11:59.038007Z"
    }
   },
   "outputs": [
    {
     "data": {
      "text/plain": [
       "'2.6.0'"
      ]
     },
     "execution_count": 13,
     "metadata": {},
     "output_type": "execute_result"
    }
   ],
   "source": [
    "tf.__version__"
   ]
  }
 ],
 "metadata": {
  "kernelspec": {
   "display_name": "xray",
   "language": "python",
   "name": "xray"
  },
  "language_info": {
   "codemirror_mode": {
    "name": "ipython",
    "version": 3
   },
   "file_extension": ".py",
   "mimetype": "text/x-python",
   "name": "python",
   "nbconvert_exporter": "python",
   "pygments_lexer": "ipython3",
   "version": "3.8.16"
  },
  "toc": {
   "base_numbering": 1,
   "nav_menu": {},
   "number_sections": true,
   "sideBar": true,
   "skip_h1_title": false,
   "title_cell": "Table of Contents",
   "title_sidebar": "Contents",
   "toc_cell": false,
   "toc_position": {},
   "toc_section_display": true,
   "toc_window_display": false
  },
  "varInspector": {
   "cols": {
    "lenName": 16,
    "lenType": 16,
    "lenVar": 40
   },
   "kernels_config": {
    "python": {
     "delete_cmd_postfix": "",
     "delete_cmd_prefix": "del ",
     "library": "var_list.py",
     "varRefreshCmd": "print(var_dic_list())"
    },
    "r": {
     "delete_cmd_postfix": ") ",
     "delete_cmd_prefix": "rm(",
     "library": "var_list.r",
     "varRefreshCmd": "cat(var_dic_list()) "
    }
   },
   "types_to_exclude": [
    "module",
    "function",
    "builtin_function_or_method",
    "instance",
    "_Feature"
   ],
   "window_display": false
  }
 },
 "nbformat": 4,
 "nbformat_minor": 5
}
